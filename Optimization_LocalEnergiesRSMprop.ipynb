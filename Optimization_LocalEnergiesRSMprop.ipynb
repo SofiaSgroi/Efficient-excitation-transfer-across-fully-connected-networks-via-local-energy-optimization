{
 "cells": [
  {
   "cell_type": "code",
   "execution_count": 1,
   "id": "745acd0c",
   "metadata": {},
   "outputs": [],
   "source": [
    "import tensorflow as tf\n",
    "import numpy as np\n",
    "\n",
    "import matplotlib.pyplot as plt\n",
    "%matplotlib inline"
   ]
  },
  {
   "cell_type": "code",
   "execution_count": 3,
   "id": "35ec44d4",
   "metadata": {},
   "outputs": [
    {
     "data": {
      "text/plain": [
       "0.18860186099423928"
      ]
     },
     "execution_count": 3,
     "metadata": {},
     "output_type": "execute_result"
    }
   ],
   "source": [
    "hbar=6.582119569*1e-16#eV*s\n",
    "Energy_unit=1.2414*1e-4#eV\n",
    "H_unit=1e-12*Energy_unit/hbar\n",
    "H_unit"
   ]
  },
  {
   "cell_type": "code",
   "execution_count": 2,
   "id": "3d727ce1",
   "metadata": {},
   "outputs": [],
   "source": [
    "I=np.eye(9, dtype=\"complex64\")\n",
    "\n",
    "start_vert=1 #starting site\n",
    "sink_connect=3 #site connected to the sink\n",
    "\n",
    "#Non-diagonal part of the Hamiltonian\n",
    "hbar=6.582119569*1e-16#eV*s\n",
    "Energy_unit=1.2414*1e-4#eV\n",
    "H_unit=1e-12*Energy_unit/hbar\n",
    "\n",
    "H_I=H_unit*np.array([\n",
    "    [0, 0, 0, 0, 0, 0, 0, 0, 0],\n",
    "    [0, 0, -104.1, 5.1, -4.3, 4.7, -15.1, -7.8, 0],\n",
    "    [0, -104.1, 0, 32.6, 7.1, 5.4, 8.3, 0.8, 0],\n",
    "    [0, 5.1, 32.6, 0.0, -46.8, 1.0, -8.1, 5.1, 0],\n",
    "    [0, -4.3, 7.1, -46.8, 0, -70.7, -14.7, -61.5, 0],\n",
    "    [0, 4.7, 5.4, 1.0, -70.7, 0, 89.7, -2.5, 0],\n",
    "    [0, -15.1, 8.3, -8.1, -14.7, 89.7, 0, 32.7, 0],\n",
    "    [0, -7.8, 0.8, 5.1, -61.5, -2.5, 32.7, 0, 0],\n",
    "    [0, 0, 0, 0, 0, 0, 0, 0, 0]\n",
    "], dtype=\"complex64\")\n",
    "\n",
    "L_uni_I = np.kron(I, H_I)-np.kron(H_I.transpose().conjugate(), I) #Corresponding term for the vectorized Lindblad equation\n",
    "Tensor_L_uni_I = tf.convert_to_tensor(L_uni_I) #Convert L_uni_I to a tensor object\n",
    "\n",
    "\n",
    "#Define sigma+_ij and sigma-_ij matrices to write down the dissipators\n",
    "Sm=[]\n",
    "Sp=[]\n",
    "for k in range(8):\n",
    "    smk=np.zeros([9,9], dtype=\"complex64\")\n",
    "    smk[0,k]=1\n",
    "    spk=np.zeros([9,9], dtype=\"complex64\")\n",
    "    spk[k,0]=1\n",
    "    \n",
    "    Sm+=[smk]\n",
    "    Sp+=[spk]\n",
    "sm=np.zeros([9,9], dtype=\"complex64\") #sigma+_3s and sigma-_3s\n",
    "sm[8,sink_connect]=1\n",
    "sp=np.zeros([9,9], dtype=\"complex64\")\n",
    "sp[sink_connect,8]=1\n",
    "\n",
    "\n",
    "#Sink state\n",
    "sink=np.zeros([9,9], dtype=\"complex64\")\n",
    "sink[8,8]=1\n",
    "sink=sink.reshape(9*9)\n",
    "Tensor_sink=tf.convert_to_tensor(sink)\n",
    "\n",
    "#Matrices |i><i| in the vectorized ME notation (required for the optimization of the diagonal terms of the Hamiltonian)\n",
    "basis_Hd=[]\n",
    "for k in range(1,8):\n",
    "    basis_k=np.zeros([9,9], dtype=\"complex64\")\n",
    "    basis_k[k,k]=1\n",
    "    basis_k=np.kron(I, basis_k)-np.kron(basis_k.transpose().conjugate(), I)\n",
    "    basis_Hd+=[basis_k]\n",
    "basis_Hd=tf.convert_to_tensor(basis_Hd, dtype=\"complex64\")"
   ]
  },
  {
   "cell_type": "code",
   "execution_count": 3,
   "id": "d3e5c30e",
   "metadata": {},
   "outputs": [],
   "source": [
    "#Optimization\n",
    "def RMSprop(X0, iterations, learning_rate, beta=0.9, eps=1e-8):\n",
    "    global T, Tensor_rho0, Tensor_L_sink, Tensor_L_diss, Tensor_L_deph, alpha\n",
    "    \n",
    "    x=tf.Variable(tf.constant(np.complex64(X0)), shape=[7]) #Variables to optimize <- (diag elements of H)/alpha\n",
    "    \n",
    "    cost=np.zeros(iterations) #taking track of the progresses\n",
    "    v=tf.constant(np.zeros(7, dtype=\"complex64\")) #For updates of RMSprop\n",
    "    \n",
    "    for n in range(iterations):\n",
    "        \n",
    "        #Gradient tape for Automatic Differentiation with Tensorflow\n",
    "        with tf.GradientTape() as tape:\n",
    "            z1 = tf.reduce_sum(x[:, tf.newaxis, tf.newaxis] * basis_Hd, axis=0) #use x to build the vectorized term of the diagonal part of H\n",
    "            z2 = tf.linalg.expm((-1j*(alpha*z1+Tensor_L_uni_I)+Tensor_L_diss+Tensor_L_deph+Tensor_L_sink)*T) #Liouvillian\n",
    "            z3 = tf.linalg.matvec(z2, Tensor_rho0) #State evolution\n",
    "            y = 1-tf.tensordot(Tensor_sink, z3, axes=1) #1-SinkPopulation (quantity to minimize)\n",
    "            \n",
    "        dy_dx = tape.gradient(y, x) #Caclulate Gradient with AD\n",
    "        \n",
    "        #Updates\n",
    "        v = beta * v + (1.0 - beta) * dy_dx**2\n",
    "        x = tf.cast(tf.math.real(x - learning_rate*dy_dx/(tf.math.sqrt(v+eps))), dtype=\"complex64\")\n",
    "        x= tf.Variable(x)\n",
    "        \n",
    "        cost[n] = y.numpy().real\n",
    "        \n",
    "    return x.numpy().real, cost"
   ]
  },
  {
   "cell_type": "code",
   "execution_count": 4,
   "id": "6303d041",
   "metadata": {},
   "outputs": [
    {
     "name": "stdout",
     "output_type": "stream",
     "text": [
      "[ 12.389539   -2.1010413 -10.577568   -6.8308034  -5.7672405  10.511105\n",
      "   0.7862378]\n",
      "0.9552162289619446\n",
      "0.9708135724067688\n"
     ]
    },
    {
     "data": {
      "text/plain": [
       "Text(0, 0.5, 'Sink population')"
      ]
     },
     "execution_count": 4,
     "metadata": {},
     "output_type": "execute_result"
    },
    {
     "data": {
      "image/png": "[encoded data removed]",
      "text/plain": [
       "<Figure size 432x288 with 1 Axes>"
      ]
     },
     "metadata": {
      "needs_background": "light"
     },
     "output_type": "display_data"
    }
   ],
   "source": [
    "#Define dissipators\n",
    "Gamma_to_sink=6.283\n",
    "Gamma=np.array(7*[5.*1e-4])\n",
    "gamma=np.array([0.157, 9.432, 7.797, 9.432, 7.797, 0.922, 9.433])\n",
    "L_sink=Gamma_to_sink*(2*np.kron(sp.transpose(), sm)-np.kron(I, sp@sm)-np.kron((sp@sm).transpose().conjugate(), I))\n",
    "L_diss=sum([Gamma[k-1]*(2*np.kron(Sp[k].transpose(), Sm[k])-np.kron(I, Sp[k]@Sm[k])-np.kron((Sp[k]@Sm[k]).transpose().conjugate(), I)) for k in range(1,8)])\n",
    "L_deph=sum([gamma[k-1]*(2*np.kron((Sp[k]@Sm[k]).transpose(),Sp[k]@Sm[k])-np.kron(I, Sp[k]@Sm[k])-np.kron((Sp[k]@Sm[k]).transpose().conjugate(), I)) for k in range(1,8)])\n",
    "Tensor_L_diss=tf.convert_to_tensor(L_diss)\n",
    "Tensor_L_deph=tf.convert_to_tensor(L_deph)\n",
    "Tensor_L_sink=tf.convert_to_tensor(L_sink)\n",
    "\n",
    "#Initial state\n",
    "rho0=np.zeros([9,9], dtype=\"complex64\")\n",
    "rho0[start_vert,start_vert]=1\n",
    "rho0=rho0.reshape(9*9)\n",
    "Tensor_rho0=tf.convert_to_tensor(rho0)\n",
    "\n",
    "#Total time\n",
    "T=5.\n",
    "\n",
    "#Optimization\n",
    "alpha=200\n",
    "X0=np.zeros(7, dtype=\"complex64\")\n",
    "psink_opt, C = RMSprop(X0, 800, 0.001)\n",
    "\n",
    "h_opt_gammaref=alpha*psink_opt\n",
    "\n",
    "#Show results\n",
    "print(h_opt_gammaref) #Optimal diagonal elements of the Hamiltonian\n",
    "print(1-C[0]) #not optimized sink population\n",
    "print(1-C[-1]) #Optimal sink population\n",
    "plt.plot(1-C)\n",
    "plt.xlabel(\"Iteration\", fontsize=15)\n",
    "plt.ylabel(\"Sink population\", fontsize=15)"
   ]
  },
  {
   "cell_type": "code",
   "execution_count": 6,
   "id": "09727ce4",
   "metadata": {},
   "outputs": [
    {
     "data": {
      "text/plain": [
       "Text(0, 0.5, 'Sink population')"
      ]
     },
     "execution_count": 6,
     "metadata": {},
     "output_type": "execute_result"
    },
    {
     "data": {
      "image/png": "[encoded data removed]",
      "text/plain": [
       "<Figure size 432x288 with 1 Axes>"
      ]
     },
     "metadata": {
      "needs_background": "light"
     },
     "output_type": "display_data"
    }
   ],
   "source": [
    "plt.plot(1-C[:150])\n",
    "plt.xlabel(\"Iteration\", fontsize=15)\n",
    "plt.ylabel(\"Sink population\", fontsize=15)"
   ]
  },
  {
   "cell_type": "code",
   "execution_count": 12,
   "id": "b7d99733",
   "metadata": {},
   "outputs": [
    {
     "name": "stdout",
     "output_type": "stream",
     "text": [
      "[ 8.207897   2.583293  -8.635124  -0.8103952 -3.669069   2.7241602\n",
      " -1.6151831]\n",
      "0.9227350950241089\n",
      "0.9808787703514099\n"
     ]
    },
    {
     "data": {
      "text/plain": [
       "Text(0, 0.5, 'Sink population')"
      ]
     },
     "execution_count": 12,
     "metadata": {},
     "output_type": "execute_result"
    },
    {
     "data": {
      "image/png": "[encoded data removed]",
      "text/plain": [
       "<Figure size 432x288 with 1 Axes>"
      ]
     },
     "metadata": {
      "needs_background": "light"
     },
     "output_type": "display_data"
    }
   ],
   "source": [
    "#Define dissipators\n",
    "Gamma_to_sink=6.283\n",
    "Gamma=np.array(7*[5.*1e-4])\n",
    "gamma=np.array(7*[1.])\n",
    "L_sink=Gamma_to_sink*(2*np.kron(sp.transpose(), sm)-np.kron(I, sp@sm)-np.kron((sp@sm).transpose().conjugate(), I))\n",
    "L_diss=sum([Gamma[k-1]*(2*np.kron(Sp[k].transpose(), Sm[k])-np.kron(I, Sp[k]@Sm[k])-np.kron((Sp[k]@Sm[k]).transpose().conjugate(), I)) for k in range(1,8)])\n",
    "L_deph=sum([gamma[k-1]*(2*np.kron((Sp[k]@Sm[k]).transpose(),Sp[k]@Sm[k])-np.kron(I, Sp[k]@Sm[k])-np.kron((Sp[k]@Sm[k]).transpose().conjugate(), I)) for k in range(1,8)])\n",
    "Tensor_L_diss=tf.convert_to_tensor(L_diss)\n",
    "Tensor_L_deph=tf.convert_to_tensor(L_deph)\n",
    "Tensor_L_sink=tf.convert_to_tensor(L_sink)\n",
    "\n",
    "#Initial state\n",
    "rho0=np.zeros([9,9], dtype=\"complex64\")\n",
    "rho0[start_vert,start_vert]=1\n",
    "rho0=rho0.reshape(9*9)\n",
    "Tensor_rho0=tf.convert_to_tensor(rho0)\n",
    "\n",
    "#Total time\n",
    "T=5.\n",
    "\n",
    "#Optimization\n",
    "alpha=200\n",
    "X0=np.zeros(7, dtype=\"complex64\")\n",
    "psink_opt, C = RMSprop(X0, 800, 0.001)\n",
    "\n",
    "h_opt_gamma1=alpha*psink_opt\n",
    "\n",
    "#Show results\n",
    "print(h_opt_gamma1) #Optimal diagonal elements of the Hamiltonian\n",
    "print(1-C[0]) #not optimized sink population\n",
    "print(1-C[-1]) #Optimal sink population\n",
    "plt.plot(1-C)\n",
    "plt.xlabel(\"Iteration\", fontsize=15)\n",
    "plt.ylabel(\"Sink population\", fontsize=15)"
   ]
  },
  {
   "cell_type": "code",
   "execution_count": 13,
   "id": "cd6801ff",
   "metadata": {},
   "outputs": [
    {
     "name": "stdout",
     "output_type": "stream",
     "text": [
      "[  -2.49071      -0.32638294    3.0335948    -8.163719     80.00663\n",
      " -107.273735      7.457055  ]\n",
      "0.6393032073974609\n",
      "0.9890434145927429\n"
     ]
    },
    {
     "data": {
      "text/plain": [
       "Text(0, 0.5, 'Sink population')"
      ]
     },
     "execution_count": 13,
     "metadata": {},
     "output_type": "execute_result"
    },
    {
     "data": {
      "image/png": "[encoded data removed]",
      "text/plain": [
       "<Figure size 432x288 with 1 Axes>"
      ]
     },
     "metadata": {
      "needs_background": "light"
     },
     "output_type": "display_data"
    }
   ],
   "source": [
    "#Define dissipators\n",
    "Gamma_to_sink=6.283\n",
    "Gamma=np.array(7*[5.*1e-4])\n",
    "gamma=np.zeros(7)\n",
    "L_sink=Gamma_to_sink*(2*np.kron(sp.transpose(), sm)-np.kron(I, sp@sm)-np.kron((sp@sm).transpose().conjugate(), I))\n",
    "L_diss=sum([Gamma[k-1]*(2*np.kron(Sp[k].transpose(), Sm[k])-np.kron(I, Sp[k]@Sm[k])-np.kron((Sp[k]@Sm[k]).transpose().conjugate(), I)) for k in range(1,8)])\n",
    "L_deph=sum([gamma[k-1]*(2*np.kron((Sp[k]@Sm[k]).transpose(),Sp[k]@Sm[k])-np.kron(I, Sp[k]@Sm[k])-np.kron((Sp[k]@Sm[k]).transpose().conjugate(), I)) for k in range(1,8)])\n",
    "Tensor_L_diss=tf.convert_to_tensor(L_diss)\n",
    "Tensor_L_deph=tf.convert_to_tensor(L_deph)\n",
    "Tensor_L_sink=tf.convert_to_tensor(L_sink)\n",
    "\n",
    "#Initial state\n",
    "rho0=np.zeros([9,9], dtype=\"complex64\")\n",
    "rho0[start_vert,start_vert]=1\n",
    "rho0=rho0.reshape(9*9)\n",
    "Tensor_rho0=tf.convert_to_tensor(rho0)\n",
    "\n",
    "#Total time\n",
    "T=5.\n",
    "\n",
    "#Optimization\n",
    "alpha=200\n",
    "X0=np.zeros(7, dtype=\"complex64\")\n",
    "psink_opt, C = RMSprop(X0, 800, 0.001)\n",
    "\n",
    "h_opt_gamma0=alpha*psink_opt\n",
    "\n",
    "#Show results\n",
    "print(h_opt_gamma0) #Optimal diagonal elements of the Hamiltonian\n",
    "print(1-C[0]) #not optimized sink population\n",
    "print(1-C[-1]) #Optimal sink population\n",
    "plt.plot(1-C)\n",
    "plt.xlabel(\"Iteration\", fontsize=15)\n",
    "plt.ylabel(\"Sink population\", fontsize=15)"
   ]
  },
  {
   "cell_type": "code",
   "execution_count": 14,
   "id": "3c20e6c4",
   "metadata": {},
   "outputs": [
    {
     "name": "stdout",
     "output_type": "stream",
     "text": [
      "0.0 0.6393032073974609 0.9890434145927429 0.0001004338264465332\n",
      "0.5 0.8549590706825256 0.9853280186653137 1.4007091522216797e-05\n",
      "1.0 0.9227350950241089 0.9808787703514099 1.1920928955078125e-07\n",
      "1.5 0.9489008188247681 0.9864444136619568 1.8477439880371094e-06\n",
      "2.0 0.9603055119514465 0.9875312447547913 5.960464477539063e-08\n",
      "2.5 0.9656527638435364 0.9872393608093262 1.7881393432617188e-07\n",
      "3.0 0.9681782126426697 0.9864031672477722 2.562999725341797e-06\n",
      "3.5 0.9692589044570923 0.9853174090385437 1.1920928955078125e-07\n",
      "4.0 0.9695287942886353 0.9840919375419617 1.7881393432617188e-07\n",
      "4.5 0.9693155884742737 0.9827825427055359 1.2516975402832031e-06\n",
      "5.0 0.9687960743904114 0.9814169406890869 3.5762786865234375e-07\n",
      "5.5 0.9680635333061218 0.979511559009552 1.8477439880371094e-06\n",
      "6.0 0.9671826362609863 0.97819584608078 1.7285346984863281e-06\n",
      "6.5 0.9661828875541687 0.9768182635307312 3.5762786865234375e-07\n",
      "7.0 0.965087890625 0.9754037857055664 1.0132789611816406e-06\n",
      "7.5 0.9639064073562622 0.9739542007446289 2.5033950805664062e-06\n",
      "8.0 0.962648332118988 0.9732069373130798 1.3709068298339844e-06\n",
      "8.5 0.9613192677497864 0.9716523289680481 1.3709068298339844e-06\n",
      "9.0 0.9599226713180542 0.9700391292572021 2.980232238769531e-07\n",
      "9.5 0.958459198474884 0.9683744311332703 7.748603820800781e-07\n",
      "10.0 0.9569339752197266 0.9666526317596436 2.5033950805664062e-06\n",
      "10.5 0.9553443789482117 0.9648892879486084 3.516674041748047e-06\n",
      "11.0 0.9536985754966736 0.9630638957023621 6.616115570068359e-06\n",
      "11.5 0.9519928693771362 0.9611995816230774 3.5762786865234375e-07\n",
      "12.0 0.9502285122871399 0.9592810273170471 1.9669532775878906e-06\n",
      "12.5 0.9484139084815979 0.9573218822479248 4.351139068603516e-06\n",
      "13.0 0.9465406537055969 0.9553090333938599 1.3113021850585938e-06\n",
      "13.5 0.9446169137954712 0.953252375125885 1.3709068298339844e-06\n",
      "14.0 0.9426437020301819 0.951156497001648 4.291534423828125e-06\n",
      "14.5 0.9406219124794006 0.949013888835907 1.2516975402832031e-06\n",
      "15.0 0.9385518431663513 0.9468286633491516 1.7285346984863281e-06\n",
      "15.5 0.9364414811134338 0.9446088671684265 1.0728836059570312e-06\n",
      "16.0 0.9342840313911438 0.9423483610153198 2.9802322387695312e-06\n",
      "16.5 0.93208247423172 0.9400439262390137 4.112720489501953e-06\n",
      "17.0 0.9298447370529175 0.9377134442329407 2.2649765014648438e-06\n",
      "17.5 0.9275689125061035 0.9353423118591309 1.8477439880371094e-06\n",
      "18.0 0.9252583980560303 0.9329434037208557 2.384185791015625e-07\n",
      "18.5 0.9229055643081665 0.9305077791213989 5.364418029785156e-07\n",
      "19.0 0.9205271005630493 0.928048849105835 3.7550926208496094e-06\n",
      "19.5 0.9181124567985535 0.9255605340003967 3.5762786865234375e-06\n",
      "20.0 0.9156701564788818 0.923039436340332 2.205371856689453e-06\n"
     ]
    }
   ],
   "source": [
    "#Define dissipators\n",
    "Gamma_to_sink=6.283\n",
    "Gamma=np.array(7*[5.*1e-4])\n",
    "L_sink=Gamma_to_sink*(2*np.kron(sp.transpose(), sm)-np.kron(I, sp@sm)-np.kron((sp@sm).transpose().conjugate(), I))\n",
    "L_diss=sum([Gamma[k-1]*(2*np.kron(Sp[k].transpose(), Sm[k])-np.kron(I, Sp[k]@Sm[k])-np.kron((Sp[k]@Sm[k]).transpose().conjugate(), I)) for k in range(1,8)])\n",
    "Tensor_L_diss=tf.convert_to_tensor(L_diss)\n",
    "Tensor_L_sink=tf.convert_to_tensor(L_sink)\n",
    "\n",
    "#Initial state\n",
    "rho0=np.zeros([9,9], dtype=\"complex64\")\n",
    "rho0[start_vert,start_vert]=1\n",
    "rho0=rho0.reshape(9*9)\n",
    "Tensor_rho0=tf.convert_to_tensor(rho0)\n",
    "\n",
    "#Total time\n",
    "T=5.\n",
    "\n",
    "alpha=200\n",
    "gammaList=np.linspace(0., 20., 41)\n",
    "OptSink=[]\n",
    "nonOptSink=[]\n",
    "Errs=[]\n",
    "\n",
    "for gk in range(gammaList.shape[0]):\n",
    "    gamma=np.array(7*[gammaList[gk]])\n",
    "    L_deph=sum([gamma[k-1]*(2*np.kron((Sp[k]@Sm[k]).transpose(),Sp[k]@Sm[k])-np.kron(I, Sp[k]@Sm[k])-np.kron((Sp[k]@Sm[k]).transpose().conjugate(), I)) for k in range(1,8)])\n",
    "    Tensor_L_deph=tf.convert_to_tensor(L_deph)\n",
    "    \n",
    "    X0=np.zeros(7, dtype=\"complex64\")\n",
    "    psink_opt, C = RMSprop(X0, 800, 0.001)\n",
    "    \n",
    "    OptSink+=[1-C[-1]]\n",
    "    nonOptSink+=[1-C[0]]\n",
    "    Errs+=[abs(C[-1]-C[-2])]\n",
    "    \n",
    "    print(gamma[0], nonOptSink[gk], OptSink[gk], Errs[gk])"
   ]
  },
  {
   "cell_type": "code",
   "execution_count": 15,
   "id": "08dcc0ee",
   "metadata": {
    "scrolled": true
   },
   "outputs": [
    {
     "data": {
      "text/plain": [
       "Text(0, 0.5, '$r_{s}^T$')"
      ]
     },
     "execution_count": 15,
     "metadata": {},
     "output_type": "execute_result"
    },
    {
     "data": {
      "image/png": "[encoded data removed]",
      "text/plain": [
       "<Figure size 432x288 with 1 Axes>"
      ]
     },
     "metadata": {
      "needs_background": "light"
     },
     "output_type": "display_data"
    }
   ],
   "source": [
    "plt.plot(gammaList, OptSink, label=\"$h_{opt}$\")\n",
    "plt.plot(gammaList, nonOptSink, label=\"$h_{n}=0$\")\n",
    "plt.legend()\n",
    "\n",
    "plt.xlabel(\"$\\gamma$\", fontsize=15)\n",
    "plt.ylabel(\"$r_{s}^T$\", fontsize=15)"
   ]
  },
  {
   "cell_type": "code",
   "execution_count": null,
   "id": "525aca66",
   "metadata": {},
   "outputs": [],
   "source": []
  }
 ],
 "metadata": {
  "kernelspec": {
   "display_name": "Python 3 (ipykernel)",
   "language": "python",
   "name": "python3"
  },
  "language_info": {
   "codemirror_mode": {
    "name": "ipython",
    "version": 3
   },
   "file_extension": ".py",
   "mimetype": "text/x-python",
   "name": "python",
   "nbconvert_exporter": "python",
   "pygments_lexer": "ipython3",
   "version": "3.9.7"
  }
 },
 "nbformat": 4,
 "nbformat_minor": 5
}
